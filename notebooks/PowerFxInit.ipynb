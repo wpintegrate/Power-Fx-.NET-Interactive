{
 "cells": [
  {
   "cell_type": "markdown",
   "id": "ecee3e70",
   "metadata": {},
   "source": [
    "# Initialize PowerFx Kernel\n",
    "\n",
    "To run this notebook:\n",
    "\n",
    "1. Click the kernel selector in the top right (it may show \"Select Kernel\")\n",
    "2. Look for \".NET (C#)\" in the list - if you don't see it, select \"Select Another Kernel...\" and then look for \".NET (C#)\"\n",
    "3. After selecting the kernel, wait for it to connect (you'll see a checkmark)\n",
    "4. Then run this cell to initialize PowerFx\n",
    "\n",
    "If you don't see \".NET (C#)\" as an option, try these steps:\n",
    "1. Open a terminal\n",
    "2. Run: `dotnet tool install -g Microsoft.dotnet-interactive`\n",
    "3. Run: `mkdir -p ~/.local/share/jupyter/kernels && dotnet interactive jupyter install`\n",
    "4. Restart VS Code and try again"
   ]
  },
  {
   "cell_type": "code",
   "execution_count": null,
   "id": "ed61e46a",
   "metadata": {
    "vscode": {
     "languageId": "csharp"
    }
   },
   "outputs": [],
   "source": [
    "#i \"nuget:/workspaces/Power-Fx-.NET-Interactive/src/bin/Release\"\n",
    "#r \"nuget:PowerFx.NET.Interactive, 2025.5.12.1\"\n",
    "\n",
    "// Initialize PowerFx kernel\n",
    "using Microsoft.DotNet.Interactive;\n",
    "using PowerFx.Interactive;\n",
    "\n",
    "await Kernel.Root.LoadExtensionAsync<PowerFxKernelExtension>();\n",
    "\n",
    "// Confirm initialization\n",
    "Console.WriteLine(\"PowerFx kernel initialized successfully!\");"
   ]
  },
  {
   "cell_type": "markdown",
   "id": "462927a7",
   "metadata": {},
   "source": [
    "# Test PowerFx\n",
    "Now let's test if PowerFx is working:"
   ]
  },
  {
   "cell_type": "code",
   "execution_count": null,
   "id": "877cb920",
   "metadata": {
    "vscode": {
     "languageId": "powerfx"
    }
   },
   "outputs": [],
   "source": [
    "Set(greeting, \"Hello from PowerFx!\")"
   ]
  }
 ],
 "metadata": {
  "language_info": {
   "name": "python"
  }
 },
 "nbformat": 4,
 "nbformat_minor": 5
}
