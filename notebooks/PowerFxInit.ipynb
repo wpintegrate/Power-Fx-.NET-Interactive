{
 "cells": [
  {
   "cell_type": "markdown",
   "id": "ecee3e70",
   "metadata": {},
   "source": [
    "# Initialize Kernels\n",
    "First, we'll initialize the C# and PowerFx kernels.\n",
    "\n",
    "Make sure to:\n",
    "1. Use the kernel selector in the top right to select \"Jupyter Kernel\"\n",
    "2. When prompted, select \".NET Interactive\" as the kernel\n",
    "3. Then run this cell to initialize PowerFx"
   ]
  },
  {
   "cell_type": "code",
   "execution_count": null,
   "id": "ed61e46a",
   "metadata": {
    "vscode": {
     "languageId": "csharp"
    }
   },
   "outputs": [],
   "source": [
    "#i \"nuget:/workspaces/Power-Fx-.NET-Interactive/src/bin/Release\"\n",
    "#r \"nuget:PowerFx.NET.Interactive, 2025.5.12.1\"\n",
    "\n",
    "using Microsoft.DotNet.Interactive;\n",
    "using PowerFx.Interactive;\n",
    "\n",
    "await Kernel.Root.LoadExtensionAsync<PowerFxKernelExtension>();"
   ]
  },
  {
   "cell_type": "markdown",
   "id": "462927a7",
   "metadata": {},
   "source": [
    "# Test PowerFx\n",
    "Now let's test if PowerFx is working:"
   ]
  },
  {
   "cell_type": "code",
   "execution_count": null,
   "id": "877cb920",
   "metadata": {
    "vscode": {
     "languageId": "powerfx"
    }
   },
   "outputs": [],
   "source": [
    "Set(greeting, \"Hello from PowerFx!\")"
   ]
  }
 ],
 "metadata": {
  "language_info": {
   "name": "python"
  }
 },
 "nbformat": 4,
 "nbformat_minor": 5
}
